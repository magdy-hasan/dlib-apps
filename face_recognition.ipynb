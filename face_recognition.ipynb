{
 "cells": [
  {
   "cell_type": "code",
   "execution_count": 21,
   "metadata": {},
   "outputs": [],
   "source": [
    "import dlib\n",
    "import cv2\n",
    "import os\n",
    "import numpy as np\n",
    "from imutils import face_utils"
   ]
  },
  {
   "cell_type": "code",
   "execution_count": 2,
   "metadata": {},
   "outputs": [],
   "source": [
    "detector = dlib.get_frontal_face_detector()\n",
    "sp = dlib.shape_predictor('./shape_predictor_68_face_landmarks.dat')\n",
    "facerec = dlib.face_recognition_model_v1('./dlib_face_recognition_resnet_model_v1.dat')"
   ]
  },
  {
   "cell_type": "code",
   "execution_count": 26,
   "metadata": {},
   "outputs": [
    {
     "name": "stdout",
     "output_type": "stream",
     "text": [
      "ahmed\n",
      "magdy\n",
      "magdy\n",
      "mario\n",
      "UNKNOWN\n",
      "UNKNOWN\n"
     ]
    }
   ],
   "source": [
    "img = cv2.imread('./ex3.jpg')\n",
    "gray = cv2.cvtColor(img, cv2.COLOR_BGR2GRAY)\n",
    "rects = detector(gray, 1)\n",
    "for rect in rects:\n",
    "    shape = sp(img, rect)\n",
    "    fd = np.array(facerec.compute_face_descriptor(img, shape))\n",
    "    \n",
    "    (x, y, w, h) = face_utils.rect_to_bb(rect)\n",
    "    cv2.rectangle(img, (x, y), (x + w, y + h), (0, 255, 0), 2)\n",
    "    #print(face_descriptor)\n",
    "    \n",
    "    name = 'UNKNOWN'\n",
    "    cd = 1.0\n",
    "    for i in os.listdir('./faces/'):\n",
    "        im = './faces/' + i\n",
    "        im = cv2.imread(im)\n",
    "        gr = cv2.cvtColor(im, cv2.COLOR_BGR2GRAY)\n",
    "        rec = detector(gr, 0)[0]\n",
    "        sh = sp(im, rec)\n",
    "        fd1 = np.array(facerec.compute_face_descriptor(im, sh))\n",
    "        di = np.linalg.norm(fd - fd1)\n",
    "        if di < 0.5 and di < cd:\n",
    "            name = os.path.splitext(i)[0]\n",
    "            cd = di\n",
    "    cv2.putText(img, name, (x,abs(y-10)),0,0.01 * h,(255,255,255),2)\n",
    "    print(name)\n",
    "cv2.imshow('vid', img)\n",
    "cv2.waitKey(0)\n",
    "cv2.destroyAllWindows()"
   ]
  },
  {
   "cell_type": "code",
   "execution_count": null,
   "metadata": {},
   "outputs": [],
   "source": []
  }
 ],
 "metadata": {
  "kernelspec": {
   "display_name": "Python 3",
   "language": "python",
   "name": "python3"
  },
  "language_info": {
   "codemirror_mode": {
    "name": "ipython",
    "version": 3
   },
   "file_extension": ".py",
   "mimetype": "text/x-python",
   "name": "python",
   "nbconvert_exporter": "python",
   "pygments_lexer": "ipython3",
   "version": "3.6.8"
  }
 },
 "nbformat": 4,
 "nbformat_minor": 2
}
